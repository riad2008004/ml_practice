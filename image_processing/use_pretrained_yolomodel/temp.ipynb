{
 "cells": [
  {
   "cell_type": "code",
   "execution_count": 3,
   "metadata": {},
   "outputs": [
    {
     "name": "stderr",
     "output_type": "stream",
     "text": [
      "c:\\Users\\Asus\\AppData\\Local\\Programs\\Python\\Python312\\Lib\\site-packages\\torch\\utils\\_pytree.py:185: FutureWarning: optree is installed but the version is too old to support PyTorch Dynamo in C++ pytree. C++ pytree support is disabled. Please consider upgrading optree using `python3 -m pip install --upgrade 'optree>=0.13.0'`.\n",
      "  warnings.warn(\n"
     ]
    }
   ],
   "source": [
    "from ultralytics import YOLO"
   ]
  },
  {
   "cell_type": "code",
   "execution_count": 4,
   "metadata": {},
   "outputs": [],
   "source": [
    "model = YOLO('yolov8n.pt')\n"
   ]
  },
  {
   "cell_type": "code",
   "execution_count": 3,
   "metadata": {},
   "outputs": [
    {
     "name": "stdout",
     "output_type": "stream",
     "text": [
      "\n",
      "image 1/1 E:\\Codes\\machine_learning\\image_processing\\use_pretrained_yolomodel\\test_image.png: 480x640 1 dog, 101.8ms\n",
      "Speed: 4.7ms preprocess, 101.8ms inference, 1.5ms postprocess per image at shape (1, 3, 480, 640)\n",
      "Results saved to \u001b[1mresults2\u001b[0m\n"
     ]
    }
   ],
   "source": [
    "results = model('E:/Codes/machine_learning/image_processing/use_pretrained_yolomodel/test_image.png', \n",
    "                 save=True, \n",
    "                 conf=0.5, \n",
    "                 project='.',  # current directory\n",
    "                 name='results')  # folder name for the outputs\n",
    "\n"
   ]
  },
  {
   "cell_type": "code",
   "execution_count": 6,
   "metadata": {},
   "outputs": [
    {
     "name": "stdout",
     "output_type": "stream",
     "text": [
      "\n",
      "image 1/1 E:\\Codes\\machine_learning\\image_processing\\use_pretrained_yolomodel\\test_image.png: 480x640 1 dog, 75.3ms\n",
      "Speed: 3.3ms preprocess, 75.3ms inference, 1.1ms postprocess per image at shape (1, 3, 480, 640)\n",
      "Results saved to \u001b[1mresults3\u001b[0m\n"
     ]
    },
    {
     "data": {
      "text/plain": [
       "[ultralytics.engine.results.Results object with attributes:\n",
       " \n",
       " boxes: ultralytics.engine.results.Boxes object\n",
       " keypoints: None\n",
       " masks: None\n",
       " names: {0: 'person', 1: 'bicycle', 2: 'car', 3: 'motorcycle', 4: 'airplane', 5: 'bus', 6: 'train', 7: 'truck', 8: 'boat', 9: 'traffic light', 10: 'fire hydrant', 11: 'stop sign', 12: 'parking meter', 13: 'bench', 14: 'bird', 15: 'cat', 16: 'dog', 17: 'horse', 18: 'sheep', 19: 'cow', 20: 'elephant', 21: 'bear', 22: 'zebra', 23: 'giraffe', 24: 'backpack', 25: 'umbrella', 26: 'handbag', 27: 'tie', 28: 'suitcase', 29: 'frisbee', 30: 'skis', 31: 'snowboard', 32: 'sports ball', 33: 'kite', 34: 'baseball bat', 35: 'baseball glove', 36: 'skateboard', 37: 'surfboard', 38: 'tennis racket', 39: 'bottle', 40: 'wine glass', 41: 'cup', 42: 'fork', 43: 'knife', 44: 'spoon', 45: 'bowl', 46: 'banana', 47: 'apple', 48: 'sandwich', 49: 'orange', 50: 'broccoli', 51: 'carrot', 52: 'hot dog', 53: 'pizza', 54: 'donut', 55: 'cake', 56: 'chair', 57: 'couch', 58: 'potted plant', 59: 'bed', 60: 'dining table', 61: 'toilet', 62: 'tv', 63: 'laptop', 64: 'mouse', 65: 'remote', 66: 'keyboard', 67: 'cell phone', 68: 'microwave', 69: 'oven', 70: 'toaster', 71: 'sink', 72: 'refrigerator', 73: 'book', 74: 'clock', 75: 'vase', 76: 'scissors', 77: 'teddy bear', 78: 'hair drier', 79: 'toothbrush'}\n",
       " obb: None\n",
       " orig_img: array([[[ 51,  89,  91],\n",
       "         [ 51,  89,  91],\n",
       "         [ 51,  89,  91],\n",
       "         ...,\n",
       "         [ 41, 100,  92],\n",
       "         [ 43, 102,  94],\n",
       "         [ 44, 103,  95]],\n",
       " \n",
       "        [[ 51,  89,  91],\n",
       "         [ 51,  89,  91],\n",
       "         [ 50,  88,  90],\n",
       "         ...,\n",
       "         [ 41, 100,  92],\n",
       "         [ 43, 102,  94],\n",
       "         [ 44, 103,  95]],\n",
       " \n",
       "        [[ 50,  88,  90],\n",
       "         [ 50,  88,  90],\n",
       "         [ 50,  88,  90],\n",
       "         ...,\n",
       "         [ 42, 101,  93],\n",
       "         [ 46, 103,  95],\n",
       "         [ 46, 103,  95]],\n",
       " \n",
       "        ...,\n",
       " \n",
       "        [[ 56,  61,  82],\n",
       "         [ 47,  52,  73],\n",
       "         [ 21,  27,  46],\n",
       "         ...,\n",
       "         [  7,   6,  26],\n",
       "         [  8,   7,  27],\n",
       "         [  7,   6,  26]],\n",
       " \n",
       "        [[ 62,  67,  88],\n",
       "         [ 57,  62,  83],\n",
       "         [ 30,  36,  55],\n",
       "         ...,\n",
       "         [  6,   4,  23],\n",
       "         [  5,   3,  23],\n",
       "         [  2,   0,  20]],\n",
       " \n",
       "        [[ 39,  44,  65],\n",
       "         [ 42,  47,  68],\n",
       "         [ 23,  29,  48],\n",
       "         ...,\n",
       "         [  1,   0,  18],\n",
       "         [  2,   0,  20],\n",
       "         [  3,   1,  21]]], dtype=uint8)\n",
       " orig_shape: (1536, 2048)\n",
       " path: 'E:\\\\Codes\\\\machine_learning\\\\image_processing\\\\use_pretrained_yolomodel\\\\test_image.png'\n",
       " probs: None\n",
       " save_dir: 'results3'\n",
       " speed: {'preprocess': 3.2888001296669245, 'inference': 75.29750000685453, 'postprocess': 1.0623999405652285}]"
      ]
     },
     "execution_count": 6,
     "metadata": {},
     "output_type": "execute_result"
    }
   ],
   "source": [
    "model.predict(source='E:/Codes/machine_learning/image_processing/use_pretrained_yolomodel/test_image.png', \n",
    "              save=True,\n",
    "              project='.', \n",
    "              conf=0.5,\n",
    "              name='results')\n"
   ]
  },
  {
   "cell_type": "code",
   "execution_count": null,
   "metadata": {},
   "outputs": [],
   "source": []
  }
 ],
 "metadata": {
  "kernelspec": {
   "display_name": "Python 3",
   "language": "python",
   "name": "python3"
  },
  "language_info": {
   "codemirror_mode": {
    "name": "ipython",
    "version": 3
   },
   "file_extension": ".py",
   "mimetype": "text/x-python",
   "name": "python",
   "nbconvert_exporter": "python",
   "pygments_lexer": "ipython3",
   "version": "3.12.4"
  }
 },
 "nbformat": 4,
 "nbformat_minor": 2
}
